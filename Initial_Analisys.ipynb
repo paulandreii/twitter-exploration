{
 "cells": [
  {
   "cell_type": "code",
   "execution_count": null,
   "metadata": {},
   "outputs": [],
   "source": [
    "import numpy as np\n",
    "import pandas as pd\n",
    "import json\n",
    "import psycopg2\n",
    "from config import config\n",
    "import datetime as dt\n",
    "from sqlalchemy import create_engine\n",
    "from config import config\n",
    "from textblob import TextBlob"
   ]
  },
  {
   "cell_type": "code",
   "execution_count": null,
   "metadata": {},
   "outputs": [],
   "source": [
    "db_params = config()\n",
    "conn = psycopg2.connect(**db_params)\n",
    "db_cursor = conn.cursor()\n",
    "\n",
    "raw_data = pd.read_sql_query('SELECT * FROM SanchezDictador', conn)\n",
    "\n",
    "db_cursor.close()\n",
    "conn.close()"
   ]
  },
  {
   "cell_type": "code",
   "execution_count": null,
   "metadata": {},
   "outputs": [],
   "source": [
    "raw_data.head(5)"
   ]
  },
  {
   "cell_type": "code",
   "execution_count": null,
   "metadata": {
    "scrolled": true
   },
   "outputs": [],
   "source": [
    "df_raw = raw_data.copy()\n",
    "print('cantidad de valores nulos: \\n', df_raw.isnull().sum())"
   ]
  },
  {
   "cell_type": "markdown",
   "metadata": {},
   "source": [
    "We don't have any null (NaN) at this point."
   ]
  },
  {
   "cell_type": "code",
   "execution_count": null,
   "metadata": {},
   "outputs": [],
   "source": [
    "df_processed = df_raw.copy()\n",
    "\n",
    "'''\n",
    "for index, row in df_processed.iterrows():\n",
    "    df_processed['processed_text'] =\n",
    "'''"
   ]
  },
  {
   "cell_type": "code",
   "execution_count": null,
   "metadata": {},
   "outputs": [],
   "source": [
    "'''\n",
    "df_sentiment = df_processed.copy()\n",
    "\n",
    "for index, row in df_raw.iterrows():\n",
    "    blob = TextBlob(row['full_text'])\n",
    "    sentiment = blob.sentiment\n",
    "    print(sentiment)\n",
    "    df_sentiment['sentiment'] = sentiment.polarity\n",
    "    df_sentiment['subjectivity'] = sentiment.subjectivity\n",
    "'''"
   ]
  }
 ],
 "metadata": {
  "kernelspec": {
   "display_name": "Python 3",
   "language": "python",
   "name": "python3"
  },
  "language_info": {
   "codemirror_mode": {
    "name": "ipython",
    "version": 3
   },
   "file_extension": ".py",
   "mimetype": "text/x-python",
   "name": "python",
   "nbconvert_exporter": "python",
   "pygments_lexer": "ipython3",
   "version": "3.7.6"
  }
 },
 "nbformat": 4,
 "nbformat_minor": 4
}
