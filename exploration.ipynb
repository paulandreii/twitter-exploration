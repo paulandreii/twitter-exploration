{
 "cells": [
  {
   "cell_type": "code",
   "execution_count": null,
   "metadata": {},
   "outputs": [],
   "source": [
    "import numpy as np\n",
    "import pandas as pd\n",
    "import json\n",
    "import twitter"
   ]
  },
  {
   "cell_type": "code",
   "execution_count": null,
   "metadata": {},
   "outputs": [],
   "source": [
    "with open('twitter_keys.json') as f:\n",
    "  keys = json.load(f)\n",
    "\n",
    "consumer_key = keys['API Key']\n",
    "consumer_secret = keys['API Secret Key']\n",
    "bToken = keys['Bearer token']\n",
    "access_token_key = keys['Access token']\n",
    "access_token_secret = keys['Access token Secret']"
   ]
  },
  {
   "cell_type": "code",
   "execution_count": null,
   "metadata": {},
   "outputs": [],
   "source": [
    "api = twitter.Api(consumer_key=consumer_key,\n",
    "                  consumer_secret=consumer_secret,\n",
    "                  access_token_key=access_token_key,\n",
    "                  access_token_secret=access_token_secret)"
   ]
  },
  {
   "cell_type": "code",
   "execution_count": null,
   "metadata": {
    "scrolled": false
   },
   "outputs": [],
   "source": [
    "users = api.GetFriends()\n",
    "print([u.name for u in users])"
   ]
  },
  {
   "cell_type": "code",
   "execution_count": null,
   "metadata": {},
   "outputs": [],
   "source": [
    "followers = api.GetFollowers()"
   ]
  },
  {
   "cell_type": "code",
   "execution_count": null,
   "metadata": {
    "scrolled": true
   },
   "outputs": [],
   "source": [
    "api.GetTrendsCurrent()"
   ]
  },
  {
   "cell_type": "code",
   "execution_count": null,
   "metadata": {
    "scrolled": true
   },
   "outputs": [],
   "source": [
    "api.GetUserRetweets(count=5)"
   ]
  },
  {
   "cell_type": "code",
   "execution_count": null,
   "metadata": {
    "scrolled": true
   },
   "outputs": [],
   "source": [
    "import requests\n",
    "from requests_oauthlib import OAuth1\n",
    "\n",
    "def twitter_request(req_url, auth, params):\n",
    "    result = requests.get(req_url, auth=auth, params=params).json()\n",
    "    return result"
   ]
  },
  {
   "cell_type": "code",
   "execution_count": null,
   "metadata": {},
   "outputs": [],
   "source": [
    "params1 = {\n",
    "    \"screen_name\": \"paulososo14\",\n",
    "    \"count\": \"5\"\n",
    "}\n",
    "\n",
    "req_url1 = \"https://api.twitter.com/1.1/statuses/user_timeline.json\"\n",
    "\n",
    "auth = OAuth1(consumer_key, consumer_secret, access_token_key, access_token_secret)\n",
    "\n",
    "#response = requests.get(req_url, auth=auth, params=params)\n",
    "\n",
    "response1 = twitter_request(req_url1, auth=auth, params=params1)\n",
    "\n",
    "print(response1)"
   ]
  },
  {
   "cell_type": "code",
   "execution_count": null,
   "metadata": {},
   "outputs": [],
   "source": [
    "req_url2 = \"https://api.twitter.com/1.1/search/tweets.json\"\n",
    "\n",
    "params2 = {\n",
    "    \"q\": \"covid-19\",\n",
    "    \"geocode\": \"\",\n",
    "    \"count\": 1000,\n",
    "    \"result_type\": \"mixed\",\n",
    "    \"lang\": \"es\"\n",
    "}\n",
    "\n",
    "response2 = twitter_request(req_url2, auth=auth, params=params2)\n",
    "\n",
    "print(response2)"
   ]
  },
  {
   "cell_type": "code",
   "execution_count": null,
   "metadata": {},
   "outputs": [],
   "source": [
    "BOWTdata = pd.DataFrame.from_dict(response2, orient='index')\n",
    "BOWTdata"
   ]
  }
 ],
 "metadata": {
  "kernelspec": {
   "display_name": "Python 3",
   "language": "python",
   "name": "python3"
  },
  "language_info": {
   "codemirror_mode": {
    "name": "ipython",
    "version": 3
   },
   "file_extension": ".py",
   "mimetype": "text/x-python",
   "name": "python",
   "nbconvert_exporter": "python",
   "pygments_lexer": "ipython3",
   "version": "3.7.6"
  }
 },
 "nbformat": 4,
 "nbformat_minor": 4
}
