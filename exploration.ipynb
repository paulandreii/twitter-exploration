{
 "cells": [
  {
   "cell_type": "code",
   "execution_count": null,
   "metadata": {},
   "outputs": [],
   "source": [
    "import data_extraction as de\n",
    "import pandas as pd\n",
    "import json\n",
    "import tweepy\n",
    "from requests_oauthlib import OAuth1\n",
    "\n",
    "pd.set_option('display.max_columns', 5000)\n",
    "pd.set_option('display.max_rows', 5000)\n",
    "pd.set_option('display.max_colwidth', 5000)\n",
    "\n",
    "with open('twitter_keys.json') as f:\n",
    "    keys = json.load(f)\n",
    "\n",
    "consumer_key = keys['API Key']\n",
    "consumer_secret = keys['API Secret Key']\n",
    "bToken = keys['Bearer token']\n",
    "access_token_key = keys['Access token']\n",
    "access_token_secret = keys['Access token Secret']\n",
    "\n",
    "auth = tweepy.OAuthHandler(consumer_key, consumer_secret)\n",
    "auth.set_access_token(access_token_key, access_token_secret)"
   ]
  },
  {
   "cell_type": "code",
   "execution_count": null,
   "metadata": {},
   "outputs": [],
   "source": [
    "keys_json_path = 'twitter_keys.json'\n",
    "\n",
    "data_extractor = de.DataExtraction(keys_json_path)"
   ]
  },
  {
   "cell_type": "code",
   "execution_count": null,
   "metadata": {},
   "outputs": [],
   "source": [
    "req_url1 = \"https://api.twitter.com/1.1/search/tweets.json\"\n",
    "\n",
    "params1 = {\n",
    "    \"q\": \"SanchezDictador\",\n",
    "    \"geocode\": \"\",\n",
    "    \"count\": 100,\n",
    "    \"result_type\": \"mixed\",\n",
    "    \"lang\": \"es\",\n",
    "    \"tweet_mode\" : \"extended\"\n",
    "}\n",
    "\n",
    "response1 = data_extractor.twitter_request(req_url=req_url1, params=params1)\n",
    "list_of_statuses = response1[\"statuses\"]"
   ]
  },
  {
   "cell_type": "code",
   "execution_count": null,
   "metadata": {
    "scrolled": true
   },
   "outputs": [],
   "source": [
    "data = data_extractor.extract_twit_data(list_of_statuses)\n",
    "data"
   ]
  },
  {
   "cell_type": "code",
   "execution_count": null,
   "metadata": {
    "scrolled": true
   },
   "outputs": [],
   "source": [
    "data_extractor.api.GetTrendsWoeid(woeid='766273')"
   ]
  },
  {
   "cell_type": "code",
   "execution_count": null,
   "metadata": {},
   "outputs": [],
   "source": [
    "list_of_tweets = data_extractor.get_all_hashtag_data_postgres(hashtag_name=\"SanchezDictador\", lang=\"es\", since=\"2020-10-9\")"
   ]
  }
 ],
 "metadata": {
  "kernelspec": {
   "display_name": "Python 3",
   "language": "python",
   "name": "python3"
  },
  "language_info": {
   "codemirror_mode": {
    "name": "ipython",
    "version": 3
   },
   "file_extension": ".py",
   "mimetype": "text/x-python",
   "name": "python",
   "nbconvert_exporter": "python",
   "pygments_lexer": "ipython3",
   "version": "3.7.6"
  }
 },
 "nbformat": 4,
 "nbformat_minor": 4
}
