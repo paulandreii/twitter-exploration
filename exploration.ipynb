{
 "cells": [
  {
   "cell_type": "code",
   "execution_count": null,
   "metadata": {},
   "outputs": [],
   "source": [
    "import numpy as np\n",
    "import pandas as pd\n",
    "import json\n",
    "import twitter\n",
    "\n",
    "pd.set_option('display.max_columns', 5000)\n",
    "pd.set_option('display.max_rows', 5000)"
   ]
  },
  {
   "cell_type": "code",
   "execution_count": null,
   "metadata": {},
   "outputs": [],
   "source": [
    "with open('twitter_keys.json') as f:\n",
    "  keys = json.load(f)\n",
    "\n",
    "consumer_key = keys['API Key']\n",
    "consumer_secret = keys['API Secret Key']\n",
    "bToken = keys['Bearer token']\n",
    "access_token_key = keys['Access token']\n",
    "access_token_secret = keys['Access token Secret']"
   ]
  },
  {
   "cell_type": "code",
   "execution_count": null,
   "metadata": {},
   "outputs": [],
   "source": [
    "api = twitter.Api(consumer_key=consumer_key,\n",
    "                  consumer_secret=consumer_secret,\n",
    "                  access_token_key=access_token_key,\n",
    "                  access_token_secret=access_token_secret)"
   ]
  },
  {
   "cell_type": "code",
   "execution_count": null,
   "metadata": {
    "scrolled": true
   },
   "outputs": [],
   "source": [
    "import requests\n",
    "from requests_oauthlib import OAuth1\n",
    "\n",
    "auth = OAuth1(consumer_key, consumer_secret, access_token_key, access_token_secret)\n",
    "\n",
    "def twitter_request(req_url, auth, params):\n",
    "    result = requests.get(req_url, auth=auth, params=params).json()\n",
    "    return result"
   ]
  },
  {
   "cell_type": "code",
   "execution_count": null,
   "metadata": {},
   "outputs": [],
   "source": [
    "req_url1 = \"https://api.twitter.com/1.1/search/tweets.json\"\n",
    "\n",
    "params1 = {\n",
    "    \"q\": \"covid-19\",\n",
    "    \"geocode\": \"\",\n",
    "    \"count\": 10000,\n",
    "    \"result_type\": \"mixed\",\n",
    "    \"lang\": \"es\"\n",
    "}\n",
    "\n",
    "response1 = twitter_request(req_url1, auth=auth, params=params1)\n",
    "list_of_statuses = response1[\"statuses\"]"
   ]
  },
  {
   "cell_type": "code",
   "execution_count": null,
   "metadata": {},
   "outputs": [],
   "source": [
    "def extract_twit_data(list_of_statuses):\n",
    "    twits_dataframe = pd.DataFrame()\n",
    "    created_at_list = []\n",
    "    id_list = []\n",
    "    text_list = []\n",
    "    source_list = []\n",
    "    user_id_list = []\n",
    "    user_location_list = []\n",
    "    retweet_count_list = []\n",
    "    favorite_count_list = []\n",
    "    \n",
    "    for i in range(len(list_of_statuses)):\n",
    "        created_at_list.append(list_of_statuses[i]['created_at'])\n",
    "        id_list.append(list_of_statuses[i]['id'])\n",
    "        text_list.append(list_of_statuses[i]['text'])\n",
    "        source_list.append(list_of_statuses[i]['source'])\n",
    "        user_id_list.append(list_of_statuses[i]['user']['id'])\n",
    "        user_location_list.append(list_of_statuses[i]['user']['location'])\n",
    "        retweet_count_list.append(list_of_statuses[i]['retweet_count'])\n",
    "        favorite_count_list.append(list_of_statuses[i]['favorite_count'])\n",
    "        \n",
    "    twits_dataframe['id'] = id_list\n",
    "    twits_dataframe['created_at'] = created_at_list\n",
    "    twits_dataframe['text'] = text_list\n",
    "    twits_dataframe['source'] = source_list\n",
    "    twits_dataframe['user_id'] = user_id_list\n",
    "    twits_dataframe['user_location'] = user_location_list\n",
    "    twits_dataframe['retweet_count'] = retweet_count_list\n",
    "    twits_dataframe['favorite_count'] = favorite_count_list\n",
    "    twits_dataframe.set_index('id', inplace=True)\n",
    "    return twits_dataframe"
   ]
  },
  {
   "cell_type": "code",
   "execution_count": null,
   "metadata": {
    "scrolled": true
   },
   "outputs": [],
   "source": [
    "data = extract_twit_data(list_of_statuses)\n",
    "data"
   ]
  }
 ],
 "metadata": {
  "kernelspec": {
   "display_name": "Python 3",
   "language": "python",
   "name": "python3"
  },
  "language_info": {
   "codemirror_mode": {
    "name": "ipython",
    "version": 3
   },
   "file_extension": ".py",
   "mimetype": "text/x-python",
   "name": "python",
   "nbconvert_exporter": "python",
   "pygments_lexer": "ipython3",
   "version": "3.7.6"
  }
 },
 "nbformat": 4,
 "nbformat_minor": 4
}
